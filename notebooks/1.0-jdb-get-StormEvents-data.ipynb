{
 "cells": [
  {
   "cell_type": "code",
   "execution_count": 61,
   "id": "2ce82c4b-de42-477f-be47-e75648b2a943",
   "metadata": {},
   "outputs": [],
   "source": [
    "from pathlib import Path\n",
    "import requests\n",
    "import pandas as pd\n",
    "import os\n",
    "from html.parser import HTMLParser\n",
    "from tqdm.auto import tqdm"
   ]
  },
  {
   "cell_type": "code",
   "execution_count": 63,
   "id": "456c600f-8305-4daa-ba5c-3e5d1cda75ef",
   "metadata": {},
   "outputs": [],
   "source": [
    "data_dir = Path(os.path.realpath(\"__file__\")).parent.parent / \"data\"\n",
    "assert data_dir.exists()"
   ]
  },
  {
   "cell_type": "code",
   "execution_count": 10,
   "id": "4509170e-54f1-409e-bc48-8b0d30a4bd52",
   "metadata": {},
   "outputs": [],
   "source": [
    "http_server_uri = \"https://www.ncei.noaa.gov/pub/data/swdi/stormevents/csvfiles/\""
   ]
  },
  {
   "cell_type": "code",
   "execution_count": 30,
   "id": "14932562-18be-4de3-ad18-3ca540ebf48e",
   "metadata": {},
   "outputs": [
    {
     "data": {
      "text/plain": [
       "200"
      ]
     },
     "execution_count": 30,
     "metadata": {},
     "output_type": "execute_result"
    }
   ],
   "source": [
    "test_response = requests.get(http_server_uri)\n",
    "test_response.encoding = \"utf-8\"\n",
    "test_response.status_code"
   ]
  },
  {
   "cell_type": "code",
   "execution_count": 47,
   "id": "64a9ad83-0928-4c68-89f7-9071a2aedccb",
   "metadata": {},
   "outputs": [
    {
     "data": {
      "text/plain": [
       "216"
      ]
     },
     "execution_count": 47,
     "metadata": {},
     "output_type": "execute_result"
    }
   ],
   "source": [
    "class StormDataLinkParser(HTMLParser):\n",
    "    def __init__(self, **kwargs):\n",
    "        super().__init__(**kwargs)\n",
    "        self.download_file_list = []\n",
    "\n",
    "    def handle_data(self, data):\n",
    "        if \"StormEvents\" in data and \".csv.gz\" in data:\n",
    "            self.download_file_list.append(data)\n",
    "        \n",
    "        \n",
    "html_parser = StormDataLinkParser()\n",
    "html_parser.feed(test_response.text)\n",
    "len(html_parser.download_file_list)"
   ]
  },
  {
   "cell_type": "code",
   "execution_count": 48,
   "id": "43c789e6-2c14-4407-9c0c-2774d7a7b1e3",
   "metadata": {},
   "outputs": [
    {
     "data": {
      "text/plain": [
       "200"
      ]
     },
     "execution_count": 48,
     "metadata": {},
     "output_type": "execute_result"
    }
   ],
   "source": [
    "test_download_response = requests.get(http_server_uri + html_parser.download_file_list[0])\n",
    "test_download_response.status_code"
   ]
  },
  {
   "cell_type": "code",
   "execution_count": 65,
   "id": "304fab7e-2821-437b-9de1-40a2d10266e0",
   "metadata": {},
   "outputs": [],
   "source": [
    "raw_dir = data_dir / \"raw/StormEventsGZIP\""
   ]
  },
  {
   "cell_type": "code",
   "execution_count": 54,
   "id": "5bdb0ff9-5390-4667-bff4-0708988b19bf",
   "metadata": {},
   "outputs": [],
   "source": [
    "test_write_path = raw_dir / html_parser.download_file_list[0]\n",
    "\n",
    "with test_write_path.open('wb+') as f:\n",
    "    f.write(test_download_response.content)"
   ]
  },
  {
   "cell_type": "code",
   "execution_count": 60,
   "id": "0cbe3cdb-acbd-43a7-93e3-b686f6bed924",
   "metadata": {},
   "outputs": [
    {
     "name": "stdout",
     "output_type": "stream",
     "text": [
      "Will not download StormEvents_details-ftp_v1.0_d1950_c20210803.csv.gz!\n",
      "will download StormEvents_details-ftp_v1.0_d1951_c20210803.csv.gz!\n"
     ]
    }
   ],
   "source": [
    "# Ignore already downloaded files\n",
    "for file_name in html_parser.download_file_list[:2]:\n",
    "    file_name_path = raw_dir / file_name\n",
    "    if not file_name_path.exists():\n",
    "        print(\"will download {}!\".format(file_name))\n",
    "    else:\n",
    "        print(\"Will not download {}!\".format(file_name))"
   ]
  },
  {
   "cell_type": "code",
   "execution_count": 76,
   "id": "54ff11ad-94a0-460e-9d63-097b6be9a1bd",
   "metadata": {},
   "outputs": [
    {
     "data": {
      "application/vnd.jupyter.widget-view+json": {
       "model_id": "ed60b003b46a4be6b72b18248c8f1392",
       "version_major": 2,
       "version_minor": 0
      },
      "text/plain": [
       "  0%|          | 0/216 [00:00<?, ?it/s]"
      ]
     },
     "metadata": {},
     "output_type": "display_data"
    }
   ],
   "source": [
    "for file_name in tqdm(html_parser.download_file_list):\n",
    "    file_name_download_path = raw_dir / file_name\n",
    "    if not file_name_download_path.exists():\n",
    "        download_response = requests.get(http_server_uri + file_name, stream=True)\n",
    "        if download_response.status_code == 200:\n",
    "            with file_name_download_path.open('ab+') as f:\n",
    "                for chunk in download_response.iter_content(chunk_size=1024):\n",
    "                    if (chunk):\n",
    "                        f.write(chunk)"
   ]
  },
  {
   "cell_type": "code",
   "execution_count": 77,
   "id": "a41ed87c-23d3-4b6c-9b32-bb1fd47fda4b",
   "metadata": {},
   "outputs": [
    {
     "data": {
      "text/plain": [
       "216"
      ]
     },
     "execution_count": 77,
     "metadata": {},
     "output_type": "execute_result"
    }
   ],
   "source": [
    "# Get already downloaded files\n",
    "already_downloaded_files = list(raw_dir.glob(\"*\"))\n",
    "len(already_downloaded_files)"
   ]
  },
  {
   "cell_type": "code",
   "execution_count": 78,
   "id": "753aa945-51d6-4d0a-a51d-8a7daf6b906f",
   "metadata": {},
   "outputs": [
    {
     "name": "stdout",
     "output_type": "stream",
     "text": [
      "All files from the HTTP server have been downloaded!\n"
     ]
    }
   ],
   "source": [
    "if all([raw_dir / x in already_downloaded_files for x in html_parser.download_file_list]):\n",
    "    print(\"All files from the HTTP server have been downloaded!\")\n",
    "else:\n",
    "    print(\"Some files failed to download\")"
   ]
  },
  {
   "cell_type": "code",
   "execution_count": null,
   "id": "4a211cb3-95fe-41f6-9412-d1c45021bdab",
   "metadata": {},
   "outputs": [],
   "source": []
  }
 ],
 "metadata": {
  "kernelspec": {
   "display_name": "Python 3 (ipykernel)",
   "language": "python",
   "name": "python3"
  },
  "language_info": {
   "codemirror_mode": {
    "name": "ipython",
    "version": 3
   },
   "file_extension": ".py",
   "mimetype": "text/x-python",
   "name": "python",
   "nbconvert_exporter": "python",
   "pygments_lexer": "ipython3",
   "version": "3.9.6"
  }
 },
 "nbformat": 4,
 "nbformat_minor": 5
}
