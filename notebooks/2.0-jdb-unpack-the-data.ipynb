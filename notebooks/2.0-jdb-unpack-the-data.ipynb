{
 "cells": [
  {
   "cell_type": "code",
   "execution_count": 32,
   "id": "ad9267bc-12f7-4bca-9034-6cf62229b18a",
   "metadata": {},
   "outputs": [],
   "source": [
    "from pathlib import Path\n",
    "from tqdm.auto import tqdm\n",
    "import os\n",
    "import gzip\n",
    "import pandas as pd"
   ]
  },
  {
   "cell_type": "code",
   "execution_count": 7,
   "id": "70185c2d-1163-4f55-aa8c-6f68bca9ef5a",
   "metadata": {},
   "outputs": [],
   "source": [
    "data_dir = Path(os.path.realpath(\"__file__\")).parent.parent / \"data\""
   ]
  },
  {
   "cell_type": "code",
   "execution_count": 25,
   "id": "fa0a8afe-ed9b-4dc3-8d65-465403c44a59",
   "metadata": {},
   "outputs": [
    {
     "data": {
      "text/plain": [
       "216"
      ]
     },
     "execution_count": 25,
     "metadata": {},
     "output_type": "execute_result"
    }
   ],
   "source": [
    "raw_data_dir = data_dir / \"raw\"\n",
    "zipped_storm_files = list((raw_data_dir / \"StormEventsGZIP\").glob(\"*.csv.gz\"))\n",
    "len(zipped_storm_files)"
   ]
  },
  {
   "cell_type": "code",
   "execution_count": 28,
   "id": "69c39792-7130-478a-9326-96ec34f1baad",
   "metadata": {},
   "outputs": [],
   "source": [
    "unzipped_path = data_dir / \"interim/StormEventsCSV\"\n",
    "if not unzipped_path.exists():\n",
    "    unzipped_path.mkdir()"
   ]
  },
  {
   "cell_type": "code",
   "execution_count": 34,
   "id": "fef908ae-c0fe-4dca-b1e2-950a108f4700",
   "metadata": {},
   "outputs": [],
   "source": [
    "test_file_path = zipped_storm_files[0]\n",
    "test_csv_file_path = unzipped_path / str(test_file_path).rsplit(\"\\\\\", 1)[-1].replace(\".gz\", \"\")\n",
    "with gzip.open(test_file_path, 'rb') as f_in:\n",
    "    csv_bytes = f_in.read()\n",
    "    with open(test_csv_file_path, 'wb+') as f_out:\n",
    "        f_out.write(csv_bytes)\n",
    "assert test_csv_file_path.exists()"
   ]
  },
  {
   "cell_type": "code",
   "execution_count": 35,
   "id": "9bac2250-fbd2-4cd2-aed0-f181dcd65392",
   "metadata": {},
   "outputs": [
    {
     "data": {
      "text/html": [
       "<div>\n",
       "<style scoped>\n",
       "    .dataframe tbody tr th:only-of-type {\n",
       "        vertical-align: middle;\n",
       "    }\n",
       "\n",
       "    .dataframe tbody tr th {\n",
       "        vertical-align: top;\n",
       "    }\n",
       "\n",
       "    .dataframe thead th {\n",
       "        text-align: right;\n",
       "    }\n",
       "</style>\n",
       "<table border=\"1\" class=\"dataframe\">\n",
       "  <thead>\n",
       "    <tr style=\"text-align: right;\">\n",
       "      <th></th>\n",
       "      <th>BEGIN_YEARMONTH</th>\n",
       "      <th>BEGIN_DAY</th>\n",
       "      <th>BEGIN_TIME</th>\n",
       "      <th>END_YEARMONTH</th>\n",
       "      <th>END_DAY</th>\n",
       "      <th>END_TIME</th>\n",
       "      <th>EPISODE_ID</th>\n",
       "      <th>EVENT_ID</th>\n",
       "      <th>STATE</th>\n",
       "      <th>STATE_FIPS</th>\n",
       "      <th>...</th>\n",
       "      <th>END_RANGE</th>\n",
       "      <th>END_AZIMUTH</th>\n",
       "      <th>END_LOCATION</th>\n",
       "      <th>BEGIN_LAT</th>\n",
       "      <th>BEGIN_LON</th>\n",
       "      <th>END_LAT</th>\n",
       "      <th>END_LON</th>\n",
       "      <th>EPISODE_NARRATIVE</th>\n",
       "      <th>EVENT_NARRATIVE</th>\n",
       "      <th>DATA_SOURCE</th>\n",
       "    </tr>\n",
       "  </thead>\n",
       "  <tbody>\n",
       "    <tr>\n",
       "      <th>0</th>\n",
       "      <td>195004</td>\n",
       "      <td>28</td>\n",
       "      <td>1445</td>\n",
       "      <td>195004</td>\n",
       "      <td>28</td>\n",
       "      <td>1445</td>\n",
       "      <td>NaN</td>\n",
       "      <td>10096222</td>\n",
       "      <td>OKLAHOMA</td>\n",
       "      <td>40</td>\n",
       "      <td>...</td>\n",
       "      <td>0</td>\n",
       "      <td>NaN</td>\n",
       "      <td>NaN</td>\n",
       "      <td>35.12</td>\n",
       "      <td>-99.20</td>\n",
       "      <td>35.17</td>\n",
       "      <td>-99.20</td>\n",
       "      <td>NaN</td>\n",
       "      <td>NaN</td>\n",
       "      <td>PUB</td>\n",
       "    </tr>\n",
       "    <tr>\n",
       "      <th>1</th>\n",
       "      <td>195004</td>\n",
       "      <td>29</td>\n",
       "      <td>1530</td>\n",
       "      <td>195004</td>\n",
       "      <td>29</td>\n",
       "      <td>1530</td>\n",
       "      <td>NaN</td>\n",
       "      <td>10120412</td>\n",
       "      <td>TEXAS</td>\n",
       "      <td>48</td>\n",
       "      <td>...</td>\n",
       "      <td>0</td>\n",
       "      <td>NaN</td>\n",
       "      <td>NaN</td>\n",
       "      <td>31.90</td>\n",
       "      <td>-98.60</td>\n",
       "      <td>31.73</td>\n",
       "      <td>-98.60</td>\n",
       "      <td>NaN</td>\n",
       "      <td>NaN</td>\n",
       "      <td>PUB</td>\n",
       "    </tr>\n",
       "    <tr>\n",
       "      <th>2</th>\n",
       "      <td>195007</td>\n",
       "      <td>5</td>\n",
       "      <td>1800</td>\n",
       "      <td>195007</td>\n",
       "      <td>5</td>\n",
       "      <td>1800</td>\n",
       "      <td>NaN</td>\n",
       "      <td>10104927</td>\n",
       "      <td>PENNSYLVANIA</td>\n",
       "      <td>42</td>\n",
       "      <td>...</td>\n",
       "      <td>0</td>\n",
       "      <td>NaN</td>\n",
       "      <td>NaN</td>\n",
       "      <td>40.58</td>\n",
       "      <td>-75.70</td>\n",
       "      <td>40.65</td>\n",
       "      <td>-75.47</td>\n",
       "      <td>NaN</td>\n",
       "      <td>NaN</td>\n",
       "      <td>PUB</td>\n",
       "    </tr>\n",
       "    <tr>\n",
       "      <th>3</th>\n",
       "      <td>195007</td>\n",
       "      <td>5</td>\n",
       "      <td>1830</td>\n",
       "      <td>195007</td>\n",
       "      <td>5</td>\n",
       "      <td>1830</td>\n",
       "      <td>NaN</td>\n",
       "      <td>10104928</td>\n",
       "      <td>PENNSYLVANIA</td>\n",
       "      <td>42</td>\n",
       "      <td>...</td>\n",
       "      <td>0</td>\n",
       "      <td>NaN</td>\n",
       "      <td>NaN</td>\n",
       "      <td>40.60</td>\n",
       "      <td>-76.75</td>\n",
       "      <td>NaN</td>\n",
       "      <td>NaN</td>\n",
       "      <td>NaN</td>\n",
       "      <td>NaN</td>\n",
       "      <td>PUB</td>\n",
       "    </tr>\n",
       "    <tr>\n",
       "      <th>4</th>\n",
       "      <td>195007</td>\n",
       "      <td>24</td>\n",
       "      <td>1440</td>\n",
       "      <td>195007</td>\n",
       "      <td>24</td>\n",
       "      <td>1440</td>\n",
       "      <td>NaN</td>\n",
       "      <td>10104929</td>\n",
       "      <td>PENNSYLVANIA</td>\n",
       "      <td>42</td>\n",
       "      <td>...</td>\n",
       "      <td>0</td>\n",
       "      <td>NaN</td>\n",
       "      <td>NaN</td>\n",
       "      <td>41.63</td>\n",
       "      <td>-79.68</td>\n",
       "      <td>NaN</td>\n",
       "      <td>NaN</td>\n",
       "      <td>NaN</td>\n",
       "      <td>NaN</td>\n",
       "      <td>PUB</td>\n",
       "    </tr>\n",
       "  </tbody>\n",
       "</table>\n",
       "<p>5 rows × 51 columns</p>\n",
       "</div>"
      ],
      "text/plain": [
       "   BEGIN_YEARMONTH  BEGIN_DAY  BEGIN_TIME  END_YEARMONTH  END_DAY  END_TIME  \\\n",
       "0           195004         28        1445         195004       28      1445   \n",
       "1           195004         29        1530         195004       29      1530   \n",
       "2           195007          5        1800         195007        5      1800   \n",
       "3           195007          5        1830         195007        5      1830   \n",
       "4           195007         24        1440         195007       24      1440   \n",
       "\n",
       "   EPISODE_ID  EVENT_ID         STATE  STATE_FIPS  ...  END_RANGE END_AZIMUTH  \\\n",
       "0         NaN  10096222      OKLAHOMA          40  ...          0         NaN   \n",
       "1         NaN  10120412         TEXAS          48  ...          0         NaN   \n",
       "2         NaN  10104927  PENNSYLVANIA          42  ...          0         NaN   \n",
       "3         NaN  10104928  PENNSYLVANIA          42  ...          0         NaN   \n",
       "4         NaN  10104929  PENNSYLVANIA          42  ...          0         NaN   \n",
       "\n",
       "  END_LOCATION BEGIN_LAT  BEGIN_LON END_LAT  END_LON EPISODE_NARRATIVE  \\\n",
       "0          NaN     35.12     -99.20   35.17   -99.20               NaN   \n",
       "1          NaN     31.90     -98.60   31.73   -98.60               NaN   \n",
       "2          NaN     40.58     -75.70   40.65   -75.47               NaN   \n",
       "3          NaN     40.60     -76.75     NaN      NaN               NaN   \n",
       "4          NaN     41.63     -79.68     NaN      NaN               NaN   \n",
       "\n",
       "  EVENT_NARRATIVE DATA_SOURCE  \n",
       "0             NaN         PUB  \n",
       "1             NaN         PUB  \n",
       "2             NaN         PUB  \n",
       "3             NaN         PUB  \n",
       "4             NaN         PUB  \n",
       "\n",
       "[5 rows x 51 columns]"
      ]
     },
     "execution_count": 35,
     "metadata": {},
     "output_type": "execute_result"
    }
   ],
   "source": [
    "csv_file_df = pd.read_csv(test_csv_file_path)\n",
    "csv_file_df.head()"
   ]
  },
  {
   "cell_type": "code",
   "execution_count": 36,
   "id": "f5e83c9b-5870-45e5-936a-150cb0b02cb4",
   "metadata": {},
   "outputs": [
    {
     "data": {
      "application/vnd.jupyter.widget-view+json": {
       "model_id": "5c810b4bbaca4b4f801ec683d214e4a3",
       "version_major": 2,
       "version_minor": 0
      },
      "text/plain": [
       "  0%|          | 0/216 [00:00<?, ?it/s]"
      ]
     },
     "metadata": {},
     "output_type": "display_data"
    }
   ],
   "source": [
    "for gzipped_file_path in tqdm(zipped_storm_files):\n",
    "    csv_file_path = unzipped_path / str(gzipped_file_path).rsplit(\"\\\\\", 1)[-1].replace(\".gz\", \"\")\n",
    "    if not csv_file_path.exists():\n",
    "        with gzip.open(gzipped_file_path, 'rb') as f_in:\n",
    "            csv_bytes = f_in.read()\n",
    "            with open(csv_file_path, 'wb+') as f_out:\n",
    "                f_out.write(csv_bytes)"
   ]
  },
  {
   "cell_type": "code",
   "execution_count": null,
   "id": "23923e82-f92b-4f31-8b84-6b8d4e71386a",
   "metadata": {},
   "outputs": [],
   "source": []
  }
 ],
 "metadata": {
  "kernelspec": {
   "display_name": "Python 3 (ipykernel)",
   "language": "python",
   "name": "python3"
  },
  "language_info": {
   "codemirror_mode": {
    "name": "ipython",
    "version": 3
   },
   "file_extension": ".py",
   "mimetype": "text/x-python",
   "name": "python",
   "nbconvert_exporter": "python",
   "pygments_lexer": "ipython3",
   "version": "3.9.6"
  }
 },
 "nbformat": 4,
 "nbformat_minor": 5
}
