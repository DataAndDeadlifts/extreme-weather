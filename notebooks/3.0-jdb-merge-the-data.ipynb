{
 "cells": [
  {
   "cell_type": "code",
   "execution_count": 1,
   "id": "7210a9af-dc0c-40d4-8bb4-75501aafabf6",
   "metadata": {},
   "outputs": [],
   "source": [
    "import pandas as pd\n",
    "from tqdm.auto import tqdm\n",
    "import sys\n",
    "sys.path.append(\"../\")\n",
    "from src.data.make_dataset import STORM_EVENTS_CSV_PATH, INTERIM_DATA_DIR"
   ]
  },
  {
   "cell_type": "code",
   "execution_count": 2,
   "id": "e740ac2c-623b-42e8-8c1d-48b44afa8f8c",
   "metadata": {},
   "outputs": [
    {
     "data": {
      "text/plain": [
       "216"
      ]
     },
     "execution_count": 2,
     "metadata": {},
     "output_type": "execute_result"
    }
   ],
   "source": [
    "storm_events_csv_files = list(STORM_EVENTS_CSV_PATH.glob(\"*.csv\"))\n",
    "len(storm_events_csv_files)"
   ]
  },
  {
   "cell_type": "code",
   "execution_count": 3,
   "id": "4f0c705f-792c-46b3-8f2d-ce7f460cbaac",
   "metadata": {},
   "outputs": [
    {
     "data": {
      "text/plain": [
       "0"
      ]
     },
     "execution_count": 3,
     "metadata": {},
     "output_type": "execute_result"
    }
   ],
   "source": [
    "event_detail_files = [x for x in storm_events_csv_files if \"_details-\" in str(x)]\n",
    "event_fatality_files = [x for x in storm_events_csv_files if \"_fatalities-\" in str(x)]\n",
    "event_location_files = [x for x in storm_events_csv_files if \"_locations-\" in str(x)]\n",
    "other_files = [\n",
    "    x for x in storm_events_csv_files if x not in \\\n",
    "    event_detail_files + event_fatality_files + event_location_files]\n",
    "len(other_files)"
   ]
  },
  {
   "cell_type": "code",
   "execution_count": 4,
   "id": "b72b3278-6fea-4b4c-8e55-578e052ce0da",
   "metadata": {},
   "outputs": [
    {
     "data": {
      "text/html": [
       "<div>\n",
       "<style scoped>\n",
       "    .dataframe tbody tr th:only-of-type {\n",
       "        vertical-align: middle;\n",
       "    }\n",
       "\n",
       "    .dataframe tbody tr th {\n",
       "        vertical-align: top;\n",
       "    }\n",
       "\n",
       "    .dataframe thead th {\n",
       "        text-align: right;\n",
       "    }\n",
       "</style>\n",
       "<table border=\"1\" class=\"dataframe\">\n",
       "  <thead>\n",
       "    <tr style=\"text-align: right;\">\n",
       "      <th></th>\n",
       "      <th>BEGIN_YEARMONTH</th>\n",
       "      <th>BEGIN_DAY</th>\n",
       "      <th>BEGIN_TIME</th>\n",
       "      <th>END_YEARMONTH</th>\n",
       "      <th>END_DAY</th>\n",
       "      <th>END_TIME</th>\n",
       "      <th>EPISODE_ID</th>\n",
       "      <th>EVENT_ID</th>\n",
       "      <th>STATE</th>\n",
       "      <th>STATE_FIPS</th>\n",
       "      <th>...</th>\n",
       "      <th>END_RANGE</th>\n",
       "      <th>END_AZIMUTH</th>\n",
       "      <th>END_LOCATION</th>\n",
       "      <th>BEGIN_LAT</th>\n",
       "      <th>BEGIN_LON</th>\n",
       "      <th>END_LAT</th>\n",
       "      <th>END_LON</th>\n",
       "      <th>EPISODE_NARRATIVE</th>\n",
       "      <th>EVENT_NARRATIVE</th>\n",
       "      <th>DATA_SOURCE</th>\n",
       "    </tr>\n",
       "  </thead>\n",
       "  <tbody>\n",
       "  </tbody>\n",
       "</table>\n",
       "<p>0 rows × 51 columns</p>\n",
       "</div>"
      ],
      "text/plain": [
       "Empty DataFrame\n",
       "Columns: [BEGIN_YEARMONTH, BEGIN_DAY, BEGIN_TIME, END_YEARMONTH, END_DAY, END_TIME, EPISODE_ID, EVENT_ID, STATE, STATE_FIPS, YEAR, MONTH_NAME, EVENT_TYPE, CZ_TYPE, CZ_FIPS, CZ_NAME, WFO, BEGIN_DATE_TIME, CZ_TIMEZONE, END_DATE_TIME, INJURIES_DIRECT, INJURIES_INDIRECT, DEATHS_DIRECT, DEATHS_INDIRECT, DAMAGE_PROPERTY, DAMAGE_CROPS, SOURCE, MAGNITUDE, MAGNITUDE_TYPE, FLOOD_CAUSE, CATEGORY, TOR_F_SCALE, TOR_LENGTH, TOR_WIDTH, TOR_OTHER_WFO, TOR_OTHER_CZ_STATE, TOR_OTHER_CZ_FIPS, TOR_OTHER_CZ_NAME, BEGIN_RANGE, BEGIN_AZIMUTH, BEGIN_LOCATION, END_RANGE, END_AZIMUTH, END_LOCATION, BEGIN_LAT, BEGIN_LON, END_LAT, END_LON, EPISODE_NARRATIVE, EVENT_NARRATIVE, DATA_SOURCE]\n",
       "Index: []\n",
       "\n",
       "[0 rows x 51 columns]"
      ]
     },
     "execution_count": 4,
     "metadata": {},
     "output_type": "execute_result"
    }
   ],
   "source": [
    "pd.read_csv(event_detail_files[0], nrows=0)"
   ]
  },
  {
   "cell_type": "code",
   "execution_count": 5,
   "id": "01fccfc8-9946-4f36-8909-1cc2aaa364d6",
   "metadata": {},
   "outputs": [
    {
     "name": "stdout",
     "output_type": "stream",
     "text": [
      "Wow, all files have the same header! Nice\n"
     ]
    }
   ],
   "source": [
    "# detect headers\n",
    "event_file_header_baseline = pd.read_csv(event_detail_files[0], nrows=0).columns\n",
    "event_fatality_file_header_baseline = pd.read_csv(event_fatality_files[0], nrows=0).columns\n",
    "event_location_file_header_baseline = pd.read_csv(event_location_files[0], nrows=0).columns\n",
    "\n",
    "\n",
    "def headers_match(columns, csv_file_path) -> bool:\n",
    "    return columns.intersection(pd.read_csv(csv_file_path, nrows=0).columns).size == len(columns)\n",
    "    \n",
    "\n",
    "assert all([headers_match(event_file_header_baseline, x) for x in event_detail_files])\n",
    "assert all([headers_match(event_fatality_file_header_baseline, x) for x in event_fatality_files])\n",
    "assert all([headers_match(event_location_file_header_baseline, x) for x in event_location_files])\n",
    "print(\"Wow, all files have the same header! Nice\")"
   ]
  },
  {
   "cell_type": "code",
   "execution_count": 9,
   "id": "4592d948-5293-42cf-b5bd-897f29737f7e",
   "metadata": {},
   "outputs": [],
   "source": [
    "def combine_files_from_list(write_path, file_list, chunk_size=1000):\n",
    "    # Write header\n",
    "    pd.read_csv(file_list[0], nrows=0).to_csv(write_path, header=True, index=False)\n",
    "    for file_path in tqdm(file_list):\n",
    "        for chunk in pd.read_csv(file_path, chunksize=chunk_size):\n",
    "            chunk.to_csv(write_path, mode='a', header=False, index=False)"
   ]
  },
  {
   "cell_type": "code",
   "execution_count": 10,
   "id": "b32563d6-df97-4b9f-a1c4-d1de645d9061",
   "metadata": {},
   "outputs": [],
   "source": [
    "STORM_EVENTS_COMBINED_PATH = INTERIM_DATA_DIR / \"StormEventsCombined\"\n",
    "if not STORM_EVENTS_COMBINED_PATH.exists():\n",
    "    STORM_EVENTS_COMBINED_PATH.mkdir()"
   ]
  },
  {
   "cell_type": "code",
   "execution_count": 11,
   "id": "a2f85463-59d5-4a29-9ac0-f8fc55356da8",
   "metadata": {},
   "outputs": [
    {
     "data": {
      "application/vnd.jupyter.widget-view+json": {
       "model_id": "03ac4a0c097d457eafb25ba7464bd935",
       "version_major": 2,
       "version_minor": 0
      },
      "text/plain": [
       "  0%|          | 0/72 [00:00<?, ?it/s]"
      ]
     },
     "metadata": {},
     "output_type": "display_data"
    }
   ],
   "source": [
    "combine_files_from_list(\n",
    "    STORM_EVENTS_COMBINED_PATH / \"StormEvents_details-all.csv\", \n",
    "    event_detail_files\n",
    ")"
   ]
  },
  {
   "cell_type": "code",
   "execution_count": 12,
   "id": "c3059708-ce32-414f-9af8-cbee5d4294f8",
   "metadata": {},
   "outputs": [
    {
     "data": {
      "application/vnd.jupyter.widget-view+json": {
       "model_id": "e5b68c89c61948b1bb6cdf0a94e7c458",
       "version_major": 2,
       "version_minor": 0
      },
      "text/plain": [
       "  0%|          | 0/72 [00:00<?, ?it/s]"
      ]
     },
     "metadata": {},
     "output_type": "display_data"
    }
   ],
   "source": [
    "combine_files_from_list(\n",
    "    STORM_EVENTS_COMBINED_PATH / \"StormEvents_fatalities-all.csv\", \n",
    "    event_fatality_files\n",
    ")"
   ]
  },
  {
   "cell_type": "code",
   "execution_count": 13,
   "id": "7468c790-cdfb-4c5a-a5d1-da003168671e",
   "metadata": {},
   "outputs": [
    {
     "data": {
      "application/vnd.jupyter.widget-view+json": {
       "model_id": "0068808f44e94c6aaff792e97cc19218",
       "version_major": 2,
       "version_minor": 0
      },
      "text/plain": [
       "  0%|          | 0/72 [00:00<?, ?it/s]"
      ]
     },
     "metadata": {},
     "output_type": "display_data"
    }
   ],
   "source": [
    "combine_files_from_list(\n",
    "    STORM_EVENTS_COMBINED_PATH / \"StormEvents_locations-all.csv\", \n",
    "    event_location_files\n",
    ")"
   ]
  },
  {
   "cell_type": "code",
   "execution_count": null,
   "id": "53a284b1-0aa5-4a24-9041-8d778da6ad27",
   "metadata": {},
   "outputs": [],
   "source": []
  }
 ],
 "metadata": {
  "kernelspec": {
   "display_name": "Python 3 (ipykernel)",
   "language": "python",
   "name": "python3"
  },
  "language_info": {
   "codemirror_mode": {
    "name": "ipython",
    "version": 3
   },
   "file_extension": ".py",
   "mimetype": "text/x-python",
   "name": "python",
   "nbconvert_exporter": "python",
   "pygments_lexer": "ipython3",
   "version": "3.9.6"
  }
 },
 "nbformat": 4,
 "nbformat_minor": 5
}
